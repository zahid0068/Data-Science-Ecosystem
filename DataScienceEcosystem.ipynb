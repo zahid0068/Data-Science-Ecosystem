{
  "metadata": {
    "language_info": {
      "codemirror_mode": {
        "name": "python",
        "version": 3
      },
      "file_extension": ".py",
      "mimetype": "text/x-python",
      "name": "python",
      "nbconvert_exporter": "python",
      "pygments_lexer": "ipython3",
      "version": "3.8"
    },
    "kernelspec": {
      "name": "python",
      "display_name": "Python (Pyodide)",
      "language": "python"
    }
  },
  "nbformat_minor": 4,
  "nbformat": 4,
  "cells": [
    {
      "cell_type": "markdown",
      "source": "# Data Science Tools and Ecosystem",
      "metadata": {}
    },
    {
      "cell_type": "markdown",
      "source": "#### In this notebook,Data Science Tools and Ecosystem are summerized.",
      "metadata": {}
    },
    {
      "cell_type": "markdown",
      "source": "**Objectives**",
      "metadata": {}
    },
    {
      "cell_type": "markdown",
      "source": "* Mathematical Expression\n* Popular Data Science Languages\n* Data Science Libraries\n* Parameters Conversion",
      "metadata": {}
    },
    {
      "cell_type": "markdown",
      "source": "#### list = Some of the popular languages that Data Scientist use are:",
      "metadata": {}
    },
    {
      "cell_type": "markdown",
      "source": "<ol>\n  <li>Python.</li>\n  <li>R.</li>\n  <li>SQL.</li>\n  <li>Julia.</li>\n  <li>Java.</li>\n  <li>JavaScript.</li>\n</ol>\n\n\n",
      "metadata": {}
    },
    {
      "cell_type": "markdown",
      "source": "#### Some of the commonly used libraries used by Data Scientists include:",
      "metadata": {}
    },
    {
      "cell_type": "markdown",
      "source": "<ol>\n  <li>Pandas.</li>\n  <li>Numpy.</li>\n  <li>SciPy.</li>\n  <li>TensorFlow.</li>\n  <li>Matplotlib.</li>\n  <li>Pydot.</li>\n</ol>\n",
      "metadata": {}
    },
    {
      "cell_type": "markdown",
      "source": "#### Table:Data Science Tools",
      "metadata": {}
    },
    {
      "cell_type": "markdown",
      "source": "|Data Science Tools|\n|------------------|\n|Data Analysis and Big Data Tools|\n|Model Deployment|\n|Data Visualization|\n|Development Environments|\n\n\n\n",
      "metadata": {}
    },
    {
      "cell_type": "markdown",
      "source": "### Below are a few examples of evaluating arithmatic expressions in Python.",
      "metadata": {}
    },
    {
      "cell_type": "markdown",
      "source": "\\begin{align}\n\\dot{x} & = \\sigma(y-x) \\\\\n\\dot{y} & = \\rho x - y - xz \\\\\n\\dot{z} & = -\\beta z + xy\n\\end{align}\n\n",
      "metadata": {}
    },
    {
      "cell_type": "markdown",
      "source": "\\begin{equation*}\n\\left( \\sum_{k=1}^n a_k b_k \\right)^2 \\leq \\left( \\sum_{k=1}^n a_k^2 \\right) \\left( \\sum_{k=1}^n b_k^2 \\right)\n\\end{equation*}",
      "metadata": {}
    },
    {
      "cell_type": "markdown",
      "source": "\\begin{equation*}\n\\mathbf{V}_1 \\times \\mathbf{V}_2 =  \\begin{vmatrix}\n\\mathbf{i} & \\mathbf{j} & \\mathbf{k} \\\\\n\\frac{\\partial X}{\\partial u} &  \\frac{\\partial Y}{\\partial u} & 0 \\\\\n\\frac{\\partial X}{\\partial v} &  \\frac{\\partial Y}{\\partial v} & 0\n\\end{vmatrix}\n\\end{equation*}",
      "metadata": {}
    },
    {
      "cell_type": "markdown",
      "source": "\\begin{equation*}\n1 +  \\frac{q^2}{(1-q)}+\\frac{q^6}{(1-q)(1-q^2)}+\\cdots =\n\\prod_{j=0}^{\\infty}\\frac{1}{(1-q^{5j+2})(1-q^{5j+3})},\n\\quad\\quad \\text{for $|q|<1$}.\n\\end{equation*}\n",
      "metadata": {}
    },
    {
      "cell_type": "markdown",
      "source": "### Multiply and Add Numbers",
      "metadata": {}
    },
    {
      "cell_type": "code",
      "source": "# This is a simple arithmatic expression to multiply then add integers\nx = 3*4\ny = 5\nprint(x + y)\n\n",
      "metadata": {
        "trusted": true
      },
      "execution_count": 15,
      "outputs": [
        {
          "name": "stdout",
          "text": "17\n",
          "output_type": "stream"
        }
      ]
    },
    {
      "cell_type": "markdown",
      "source": "### Converts hours to minutes",
      "metadata": {}
    },
    {
      "cell_type": "code",
      "source": "# This will convert 200 minutes to hours by dividing by 60\na = 200\nb = 60\nprint(a/b)\n",
      "metadata": {
        "trusted": true
      },
      "execution_count": 16,
      "outputs": [
        {
          "name": "stdout",
          "text": "3.3333333333333335\n",
          "output_type": "stream"
        }
      ]
    },
    {
      "cell_type": "markdown",
      "source": "## Author\nZahid Hussain",
      "metadata": {}
    },
    {
      "cell_type": "code",
      "source": "",
      "metadata": {},
      "execution_count": null,
      "outputs": []
    }
  ]
}